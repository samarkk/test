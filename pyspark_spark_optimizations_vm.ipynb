{
 "cells": [
  {
   "cell_type": "code",
   "execution_count": 83,
   "metadata": {},
   "outputs": [],
   "source": [
    "import os\n",
    "import sys\n",
    "os.environ['SPARK_HOME']='/home/samar/spark'\n",
    "os.environ['PYLIB']=os.environ['SPARK_HOME']+'/python/lib'\n",
    "sys.path.insert(0,os.environ['PYLIB']+'/py4j-0.10.9-src.zip')\n",
    "sys.path.insert(1,os.environ['PYLIB']+'/pyspark.zip')"
   ]
  },
  {
   "cell_type": "code",
   "execution_count": 84,
   "metadata": {},
   "outputs": [],
   "source": [
    "from pyspark.sql import SparkSession\n",
    "import pandas as pd\n",
    "import numpy as np"
   ]
  },
  {
   "cell_type": "code",
   "execution_count": 85,
   "metadata": {},
   "outputs": [],
   "source": [
    "spark = SparkSession.builder.appName('SparkOptimizations').getOrCreate()"
   ]
  },
  {
   "cell_type": "code",
   "execution_count": 86,
   "metadata": {},
   "outputs": [
    {
     "data": {
      "text/plain": [
       "'3.0.0'"
      ]
     },
     "execution_count": 86,
     "metadata": {},
     "output_type": "execute_result"
    }
   ],
   "source": [
    "# Having set the driver and driver options we should have spark representing spark session \n",
    "# available straight away\n",
    "spark.version"
   ]
  },
  {
   "cell_type": "code",
   "execution_count": 87,
   "metadata": {},
   "outputs": [],
   "source": [
    "from pyspark.sql.functions import *"
   ]
  },
  {
   "cell_type": "code",
   "execution_count": 88,
   "metadata": {},
   "outputs": [],
   "source": [
    "# load the cash market data\n",
    "cm_file_location = 'file:///home/samar/201819/cm'"
   ]
  },
  {
   "cell_type": "code",
   "execution_count": 89,
   "metadata": {},
   "outputs": [],
   "source": [
    "# read the csv data\n",
    "cm_df = spark.read.option(\n",
    "    \"inferSchema\", True).option(\n",
    "    \"header\", True).csv(cm_file_location)"
   ]
  },
  {
   "cell_type": "code",
   "execution_count": 90,
   "metadata": {},
   "outputs": [
    {
     "name": "stdout",
     "output_type": "stream",
     "text": [
      "+----------+------+-----+-----+-----+-----+-----+---------+---------+---------+-----------+-----------+------------+----+\n",
      "|    SYMBOL|SERIES| OPEN| HIGH|  LOW|CLOSE| LAST|PREVCLOSE|TOTTRDQTY|TOTTRDVAL|  TIMESTAMP|TOTALTRADES|        ISIN|_c13|\n",
      "+----------+------+-----+-----+-----+-----+-----+---------+---------+---------+-----------+-----------+------------+----+\n",
      "| 20MICRONS|    EQ| 49.3| 49.5|45.45|46.65|46.95|     48.4|    87346|4139659.6|21-SEP-2018|        625|INE144J01027|null|\n",
      "|21STCENMGM|    EQ|31.15|31.75|31.15|31.75|31.75|    31.75|      801|  25024.2|21-SEP-2018|         11|INE253B01015|null|\n",
      "+----------+------+-----+-----+-----+-----+-----+---------+---------+---------+-----------+-----------+------------+----+\n",
      "only showing top 2 rows\n",
      "\n"
     ]
    }
   ],
   "source": [
    "# check it\n",
    "cm_df.show(2)"
   ]
  },
  {
   "cell_type": "code",
   "execution_count": 91,
   "metadata": {},
   "outputs": [
    {
     "name": "stdout",
     "output_type": "stream",
     "text": [
      "The cash market data frame schema\n",
      "root\n",
      " |-- SYMBOL: string (nullable = true)\n",
      " |-- SERIES: string (nullable = true)\n",
      " |-- OPEN: double (nullable = true)\n",
      " |-- HIGH: double (nullable = true)\n",
      " |-- LOW: double (nullable = true)\n",
      " |-- CLOSE: double (nullable = true)\n",
      " |-- LAST: double (nullable = true)\n",
      " |-- PREVCLOSE: double (nullable = true)\n",
      " |-- TOTTRDQTY: integer (nullable = true)\n",
      " |-- TOTTRDVAL: double (nullable = true)\n",
      " |-- TIMESTAMP: string (nullable = true)\n",
      " |-- TOTALTRADES: integer (nullable = true)\n",
      " |-- ISIN: string (nullable = true)\n",
      "\n"
     ]
    }
   ],
   "source": [
    "# drop the extra column\n",
    "cmdf = cm_df.drop(\"_c13\")\n",
    "print(\"The cash market data frame schema\")\n",
    "cmdf.printSchema()"
   ]
  },
  {
   "cell_type": "code",
   "execution_count": 92,
   "metadata": {},
   "outputs": [],
   "source": [
    "# a function to replace month names with numbers\n",
    "def mnameToNo(dt):\n",
    "    mname = dt[3:6]\n",
    "    calendar = {\"JAN\": \"01\", \"FEB\": \"02\", \"MAR\": \"03\", \"APR\": \"04\",\n",
    "      \"MAY\": \"05\", \"JUN\": \"06\", \"JUL\": \"07\", \"AUG\": \"08\", \"SEP\": \"09\", \"OCT\": \"10\",\n",
    "      \"NOV\": \"11\", \"DEC\": \"12\"}\n",
    "    return dt.replace(mname, calendar[mname])"
   ]
  },
  {
   "cell_type": "code",
   "execution_count": 93,
   "metadata": {},
   "outputs": [
    {
     "data": {
      "text/plain": [
       "'12-01-2016'"
      ]
     },
     "execution_count": 93,
     "metadata": {},
     "output_type": "execute_result"
    }
   ],
   "source": [
    "# verify the function is working\n",
    "mnameToNo('12-JAN-2016')"
   ]
  },
  {
   "cell_type": "code",
   "execution_count": 94,
   "metadata": {},
   "outputs": [],
   "source": [
    "# wrap it in a udf\n",
    "udf_mname_to_no = udf(mnameToNo)"
   ]
  },
  {
   "cell_type": "code",
   "execution_count": 95,
   "metadata": {},
   "outputs": [
    {
     "name": "stdout",
     "output_type": "stream",
     "text": [
      "verifying the extra column we added as a proper timestamp\n",
      "+----------+------+-------+-------+-------+--------+-------+---------+---------+------------+-----------+-----------+------------+-------------------+\n",
      "|    SYMBOL|SERIES|   OPEN|   HIGH|    LOW|   CLOSE|   LAST|PREVCLOSE|TOTTRDQTY|   TOTTRDVAL|  TIMESTAMP|TOTALTRADES|        ISIN|                tsp|\n",
      "+----------+------+-------+-------+-------+--------+-------+---------+---------+------------+-----------+-----------+------------+-------------------+\n",
      "| 20MICRONS|    EQ|   49.3|   49.5|  45.45|   46.65|  46.95|     48.4|    87346|   4139659.6|21-SEP-2018|        625|INE144J01027|2018-09-21 00:00:00|\n",
      "|21STCENMGM|    EQ|  31.15|  31.75|  31.15|   31.75|  31.75|    31.75|      801|     25024.2|21-SEP-2018|         11|INE253B01015|2018-09-21 00:00:00|\n",
      "|3IINFOTECH|    EQ|   3.85|    3.9|   3.45|    3.55|    3.6|     3.85|  5907575| 2.1564435E7|21-SEP-2018|       1876|INE748C01020|2018-09-21 00:00:00|\n",
      "|   3MINDIA|    EQ|24699.5|24850.0|22101.0|24513.75|24550.0|  24454.5|     2003|4.85892894E7|21-SEP-2018|        905|INE470A01017|2018-09-21 00:00:00|\n",
      "|    3PLAND|    BE|  12.05|  12.05|  11.55|   11.55|  11.55|    12.05|      450|      5209.5|21-SEP-2018|          2|INE105C01023|2018-09-21 00:00:00|\n",
      "+----------+------+-------+-------+-------+--------+-------+---------+---------+------------+-----------+-----------+------------+-------------------+\n",
      "\n"
     ]
    }
   ],
   "source": [
    "# create a proper timestamp column for the cash market data\n",
    "cmdfvw = cmdf.withColumn(\n",
    "    \"tsp\",\n",
    "    to_timestamp(udf_mname_to_no(\"TIMESTAMP\"), \"dd-MM-yyyy\"))\n",
    "\n",
    "print(\"verifying the extra column we added as a proper timestamp\")\n",
    "cmdfvw.limit(5).show()"
   ]
  },
  {
   "cell_type": "code",
   "execution_count": 96,
   "metadata": {},
   "outputs": [],
   "source": [
    "# save to a location as parquet\n",
    "cmdf_parquet_save_location = 'file:///home/samar/cmdf_parquet'"
   ]
  },
  {
   "cell_type": "code",
   "execution_count": 97,
   "metadata": {},
   "outputs": [],
   "source": [
    "# repartition - reduce\n",
    "cmdfvw.write.mode('overwrite').save(cmdf_parquet_save_location)"
   ]
  },
  {
   "cell_type": "code",
   "execution_count": 98,
   "metadata": {},
   "outputs": [],
   "source": [
    "# save the cash market dataframe as parquet\n",
    "cmdf_parquet = spark.read.parquet(cmdf_parquet_save_location)"
   ]
  },
  {
   "cell_type": "code",
   "execution_count": 99,
   "metadata": {},
   "outputs": [],
   "source": [
    "# the prive volume dataframe location\n",
    "prvol_file_location = 'file:///home/samar/201819/prvolmod'"
   ]
  },
  {
   "cell_type": "code",
   "execution_count": 100,
   "metadata": {},
   "outputs": [],
   "source": [
    "# the schema for the prive volume delivery dataframe\n",
    "from pyspark.sql.types import *\n",
    "prvolSchema = StructType(\n",
    "    [\n",
    "      StructField(\"rectype\", StringType()),\n",
    "      StructField(\"srno\", IntegerType()),\n",
    "      StructField(\"symbol\", StringType()),\n",
    "      StructField(\"series\", StringType()),\n",
    "      StructField(\"traded\", IntegerType()),\n",
    "      StructField(\"deliverable\", IntegerType()),\n",
    "      StructField(\"delper\", DoubleType()),\n",
    "      StructField(\"tsp\", TimestampType())\n",
    "    ]\n",
    ")"
   ]
  },
  {
   "cell_type": "code",
   "execution_count": 101,
   "metadata": {},
   "outputs": [],
   "source": [
    "# read the price volume dataframe using the schema\n",
    "prvol_df = spark.read.schema(prvolSchema).\\\n",
    "option('dateformat', 'dd-mm-yyyy').csv(prvol_file_location)"
   ]
  },
  {
   "cell_type": "code",
   "execution_count": 102,
   "metadata": {},
   "outputs": [],
   "source": [
    "# location ot save it as parquet so that we can load it directly later\n",
    "prvol_df_parquet_location = 'file:///home/samar/prvol_df_parquet'"
   ]
  },
  {
   "cell_type": "code",
   "execution_count": 103,
   "metadata": {},
   "outputs": [],
   "source": [
    "# write the price volume dataframe to parquet\n",
    "prvol_df.write.mode('overwrite').parquet(prvol_df_parquet_location)"
   ]
  },
  {
   "cell_type": "code",
   "execution_count": 104,
   "metadata": {},
   "outputs": [],
   "source": [
    "# read the prive volume data frame from disk as parquet\n",
    "prvoldf_parquet = spark.read.parquet(prvol_df_parquet_location)"
   ]
  },
  {
   "cell_type": "code",
   "execution_count": 107,
   "metadata": {},
   "outputs": [
    {
     "name": "stdout",
     "output_type": "stream",
     "text": [
      "== Physical Plan ==\n",
      "*(5) Project [SYMBOL#5552, tsp#5565, SERIES#5553, OPEN#5554, HIGH#5555, LOW#5556, CLOSE#5557, LAST#5558, PREVCLOSE#5559, TOTTRDQTY#5560, TOTTRDVAL#5561, TIMESTAMP#5562, TOTALTRADES#5563, ISIN#5564, rectype#5692, srno#5693, series#5695, traded#5696, deliverable#5697, delper#5698]\n",
      "+- *(5) SortMergeJoin [SYMBOL#5552, tsp#5565], [symbol#5694, tsp#5699], Inner\n",
      "   :- *(2) Sort [SYMBOL#5552 ASC NULLS FIRST, tsp#5565 ASC NULLS FIRST], false, 0\n",
      "   :  +- Exchange hashpartitioning(SYMBOL#5552, tsp#5565, 200), true, [id=#1825]\n",
      "   :     +- *(1) Project [SYMBOL#5552, SERIES#5553, OPEN#5554, HIGH#5555, LOW#5556, CLOSE#5557, LAST#5558, PREVCLOSE#5559, TOTTRDQTY#5560, TOTTRDVAL#5561, TIMESTAMP#5562, TOTALTRADES#5563, ISIN#5564, tsp#5565]\n",
      "   :        +- *(1) Filter (isnotnull(SYMBOL#5552) AND isnotnull(tsp#5565))\n",
      "   :           +- *(1) ColumnarToRow\n",
      "   :              +- FileScan parquet [SYMBOL#5552,SERIES#5553,OPEN#5554,HIGH#5555,LOW#5556,CLOSE#5557,LAST#5558,PREVCLOSE#5559,TOTTRDQTY#5560,TOTTRDVAL#5561,TIMESTAMP#5562,TOTALTRADES#5563,ISIN#5564,tsp#5565] Batched: true, DataFilters: [isnotnull(SYMBOL#5552), isnotnull(tsp#5565)], Format: Parquet, Location: InMemoryFileIndex[file:/D:/tmp/cmdf_parquet], PartitionFilters: [], PushedFilters: [IsNotNull(SYMBOL), IsNotNull(tsp)], ReadSchema: struct<SYMBOL:string,SERIES:string,OPEN:double,HIGH:double,LOW:double,CLOSE:double,LAST:double,PR...\n",
      "   +- *(4) Sort [symbol#5694 ASC NULLS FIRST, tsp#5699 ASC NULLS FIRST], false, 0\n",
      "      +- Exchange hashpartitioning(symbol#5694, tsp#5699, 200), true, [id=#1835]\n",
      "         +- *(3) Project [rectype#5692, srno#5693, symbol#5694, series#5695, traded#5696, deliverable#5697, delper#5698, tsp#5699]\n",
      "            +- *(3) Filter (isnotnull(symbol#5694) AND isnotnull(tsp#5699))\n",
      "               +- *(3) ColumnarToRow\n",
      "                  +- FileScan parquet [rectype#5692,srno#5693,symbol#5694,series#5695,traded#5696,deliverable#5697,delper#5698,tsp#5699] Batched: true, DataFilters: [isnotnull(symbol#5694), isnotnull(tsp#5699)], Format: Parquet, Location: InMemoryFileIndex[file:/D:/tmp/prvol_df_parquet], PartitionFilters: [], PushedFilters: [IsNotNull(symbol), IsNotNull(tsp)], ReadSchema: struct<rectype:string,srno:int,symbol:string,series:string,traded:int,deliverable:int,delper:doub...\n",
      "\n",
      "\n"
     ]
    }
   ],
   "source": [
    "# join the two on symbol and timestamp and check the query plan\n",
    "cmdf_parquet.join(prvoldf_parquet, ['symbol', 'tsp']).explain()"
   ]
  },
  {
   "cell_type": "code",
   "execution_count": 106,
   "metadata": {},
   "outputs": [
    {
     "name": "stdout",
     "output_type": "stream",
     "text": [
      "+----------+-------------------+------+----+----+----+-----+----+---------+---------+------------+-----------+-----------+------------+-------+----+------+--------+-----------+------+\n",
      "|    SYMBOL|                tsp|SERIES|OPEN|HIGH| LOW|CLOSE|LAST|PREVCLOSE|TOTTRDQTY|   TOTTRDVAL|  TIMESTAMP|TOTALTRADES|        ISIN|rectype|srno|series|  traded|deliverable|delper|\n",
      "+----------+-------------------+------+----+----+----+-----+----+---------+---------+------------+-----------+-----------+------------+-------+----+------+--------+-----------+------+\n",
      "|21STCENMGM|2019-10-24 00:00:00|    EQ|12.9|12.9|12.9| 12.9|12.9|     12.9|      400|      5160.0|24-OCT-2019|          4|INE253B01015|     20|   2|    EQ|     400|        400| 100.0|\n",
      "|3IINFOTECH|2018-07-13 00:00:00|    EQ| 4.1| 4.3|3.65| 3.75| 3.7|     4.05| 15374953|6.03156685E7|13-JUL-2018|       8873|INE748C01020|     20|   3|    EQ|15374953|    7443771| 48.41|\n",
      "+----------+-------------------+------+----+----+----+-----+----+---------+---------+------------+-----------+-----------+------------+-------+----+------+--------+-----------+------+\n",
      "only showing top 2 rows\n",
      "\n"
     ]
    }
   ],
   "source": [
    "# execute the join\n",
    "# check the suffle\n",
    "# repeated executions should see the shuffle occuring every time\n",
    "cmdf_parquet.join(prvoldf_parquet, ['symbol', 'tsp']).show(2)"
   ]
  },
  {
   "cell_type": "code",
   "execution_count": 108,
   "metadata": {},
   "outputs": [],
   "source": [
    "# repartition into common number of partitions by the join columns and cache\n",
    "cmdf_rep_cached = cmdf_parquet.repartition(4,['symbol', 'tsp']).cache()"
   ]
  },
  {
   "cell_type": "code",
   "execution_count": 109,
   "metadata": {},
   "outputs": [],
   "source": [
    "# repartition the price volume dataframe into common number of partitions on join columns\n",
    "prvoldf_rep_cached = prvoldf_parquet.repartition(4, ['symbol', 'tsp']).cache()"
   ]
  },
  {
   "cell_type": "code",
   "execution_count": 110,
   "metadata": {},
   "outputs": [
    {
     "name": "stdout",
     "output_type": "stream",
     "text": [
      "== Physical Plan ==\n",
      "*(3) Project [SYMBOL#5552, tsp#5565, SERIES#5553, OPEN#5554, HIGH#5555, LOW#5556, CLOSE#5557, LAST#5558, PREVCLOSE#5559, TOTTRDQTY#5560, TOTTRDVAL#5561, TIMESTAMP#5562, TOTALTRADES#5563, ISIN#5564, rectype#5692, srno#5693, series#5695, traded#5696, deliverable#5697, delper#5698]\n",
      "+- *(3) SortMergeJoin [SYMBOL#5552, tsp#5565], [symbol#5694, tsp#5699], Inner\n",
      "   :- *(1) Sort [SYMBOL#5552 ASC NULLS FIRST, tsp#5565 ASC NULLS FIRST], false, 0\n",
      "   :  +- *(1) Filter (isnotnull(SYMBOL#5552) AND isnotnull(tsp#5565))\n",
      "   :     +- InMemoryTableScan [SYMBOL#5552, SERIES#5553, OPEN#5554, HIGH#5555, LOW#5556, CLOSE#5557, LAST#5558, PREVCLOSE#5559, TOTTRDQTY#5560, TOTTRDVAL#5561, TIMESTAMP#5562, TOTALTRADES#5563, ISIN#5564, tsp#5565], [isnotnull(SYMBOL#5552), isnotnull(tsp#5565)]\n",
      "   :           +- InMemoryRelation [SYMBOL#5552, SERIES#5553, OPEN#5554, HIGH#5555, LOW#5556, CLOSE#5557, LAST#5558, PREVCLOSE#5559, TOTTRDQTY#5560, TOTTRDVAL#5561, TIMESTAMP#5562, TOTALTRADES#5563, ISIN#5564, tsp#5565], StorageLevel(disk, memory, deserialized, 1 replicas)\n",
      "   :                 +- Exchange hashpartitioning(symbol#0, tsp#13, 4), false, [id=#1614]\n",
      "   :                    +- *(1) ColumnarToRow\n",
      "   :                       +- FileScan parquet [SYMBOL#0,SERIES#1,OPEN#2,HIGH#3,LOW#4,CLOSE#5,LAST#6,PREVCLOSE#7,TOTTRDQTY#8,TOTTRDVAL#9,TIMESTAMP#10,TOTALTRADES#11,ISIN#12,tsp#13] Batched: true, DataFilters: [], Format: Parquet, Location: InMemoryFileIndex[file:/D:/tmp/cmdf_parquet], PartitionFilters: [], PushedFilters: [], ReadSchema: struct<SYMBOL:string,SERIES:string,OPEN:double,HIGH:double,LOW:double,CLOSE:double,LAST:double,PR...\n",
      "   +- *(2) Sort [symbol#5694 ASC NULLS FIRST, tsp#5699 ASC NULLS FIRST], false, 0\n",
      "      +- *(2) Filter (isnotnull(symbol#5694) AND isnotnull(tsp#5699))\n",
      "         +- InMemoryTableScan [rectype#5692, srno#5693, symbol#5694, series#5695, traded#5696, deliverable#5697, delper#5698, tsp#5699], [isnotnull(symbol#5694), isnotnull(tsp#5699)]\n",
      "               +- InMemoryRelation [rectype#5692, srno#5693, symbol#5694, series#5695, traded#5696, deliverable#5697, delper#5698, tsp#5699], StorageLevel(disk, memory, deserialized, 1 replicas)\n",
      "                     +- Exchange hashpartitioning(symbol#62, tsp#67, 4), false, [id=#1641]\n",
      "                        +- *(1) ColumnarToRow\n",
      "                           +- FileScan parquet [rectype#60,srno#61,symbol#62,series#63,traded#64,deliverable#65,delper#66,tsp#67] Batched: true, DataFilters: [], Format: Parquet, Location: InMemoryFileIndex[file:/D:/tmp/prvol_df_parquet], PartitionFilters: [], PushedFilters: [], ReadSchema: struct<rectype:string,srno:int,symbol:string,series:string,traded:int,deliverable:int,delper:doub...\n",
      "\n",
      "\n"
     ]
    }
   ],
   "source": [
    "# join the two partitioined on join columns and cached dataframes\n",
    "cmdf_rep_cached.join(prvoldf_rep_cached, ['symbol', 'tsp']).explain()"
   ]
  },
  {
   "cell_type": "code",
   "execution_count": 21,
   "metadata": {
    "collapsed": true
   },
   "outputs": [
    {
     "name": "stdout",
     "output_type": "stream",
     "text": [
      "+----------+-------------------+------+-----+-----+-----+-----+-----+---------+---------+---------+-----------+-----------+------------+-------+----+------+------+-----------+------+\n",
      "|    SYMBOL|                tsp|SERIES| OPEN| HIGH|  LOW|CLOSE| LAST|PREVCLOSE|TOTTRDQTY|TOTTRDVAL|  TIMESTAMP|TOTALTRADES|        ISIN|rectype|srno|series|traded|deliverable|delper|\n",
      "+----------+-------------------+------+-----+-----+-----+-----+-----+---------+---------+---------+-----------+-----------+------------+-------+----+------+------+-----------+------+\n",
      "| 20MICRONS|2019-01-14 00:00:00|    EQ| 42.7| 42.7|41.25|41.85|41.95|    41.85|    15544|649079.05|14-JAN-2019|        243|INE144J01027|     20|   2|    EQ| 15544|       8370| 53.85|\n",
      "| 20MICRONS|2019-07-08 00:00:00|    EQ|37.45| 40.1| 35.3| 36.1| 36.5|     37.3|    49705|1876631.9|08-JUL-2019|        548|INE144J01027|     20|   2|    EQ| 49705|      18911| 38.05|\n",
      "| 20MICRONS|2019-07-11 00:00:00|    EQ|37.35| 37.7|36.05|36.35| 36.8|    35.95|    18495|676632.55|11-JUL-2019|        421|INE144J01027|     20|   2|    EQ| 18495|       9093| 49.16|\n",
      "|21STCENMGM|2018-04-10 00:00:00|    EQ| 35.2| 35.8| 35.2| 35.8| 35.8|     35.1|      106|   3793.0|10-APR-2018|          5|INE253B01015|     20|   2|    EQ|   106|        106| 100.0|\n",
      "|21STCENMGM|2018-04-11 00:00:00|    EQ| 36.5| 36.5| 35.5| 35.5| 35.5|     35.8|     2714| 98709.95|11-APR-2018|         15|INE253B01015|     20|   2|    EQ|  2714|       2628| 96.83|\n",
      "|21STCENMGM|2018-04-16 00:00:00|    EQ| 36.9| 36.9| 36.9| 36.9| 36.9|     36.2|      635|  23431.5|16-APR-2018|          5|INE253B01015|     20|   2|    EQ|   635|        635| 100.0|\n",
      "|21STCENMGM|2018-04-18 00:00:00|    EQ|38.35|38.35|38.35|38.35|38.35|     37.6|      200|   7670.0|18-APR-2018|          2|INE253B01015|     20|   2|    EQ|   200|        200| 100.0|\n",
      "|21STCENMGM|2018-04-20 00:00:00|    EQ|39.85|39.85|39.85|39.85|39.85|     39.1|     7501|298914.85|20-APR-2018|         22|INE253B01015|     20|   2|    EQ|  7501|       7501| 100.0|\n",
      "|21STCENMGM|2018-04-24 00:00:00|    EQ| 41.4| 41.4| 41.4| 41.4| 41.4|     40.6|      102|   4222.8|24-APR-2018|          3|INE253B01015|     20|   2|    EQ|   102|        100| 98.04|\n",
      "|21STCENMGM|2018-05-08 00:00:00|    EQ| 42.1| 42.1| 42.1| 42.1| 42.1|    42.95|      883|  37174.3|08-MAY-2018|         10|INE253B01015|     20|   2|    EQ|   883|        883| 100.0|\n",
      "|21STCENMGM|2018-05-09 00:00:00|    EQ| 41.3|42.85| 41.3|42.75|42.75|     42.1|    12794|530876.25|09-MAY-2018|         70|INE253B01015|     20|   2|    EQ| 12794|      10899| 85.19|\n",
      "|21STCENMGM|2018-05-17 00:00:00|    EQ| 41.5| 41.5|40.35| 41.5| 41.5|     40.7|      742|  30654.4|17-MAY-2018|         11|INE253B01015|     20|   2|    EQ|   742|        734| 98.92|\n",
      "|21STCENMGM|2018-05-21 00:00:00|    EQ| 39.9| 39.9| 39.9| 39.9| 39.9|     40.7|      221|   8817.9|21-MAY-2018|          4|INE253B01015|     20|   2|    EQ|   221|        221| 100.0|\n",
      "|21STCENMGM|2018-05-23 00:00:00|    EQ| 38.4| 38.4| 38.4| 38.4| 38.4|    39.15|      248|   9523.2|23-MAY-2018|          7|INE253B01015|     20|   2|    EQ|   248|        248| 100.0|\n",
      "|21STCENMGM|2018-05-28 00:00:00|    EQ|39.15|39.15| 38.5|39.15|39.15|     38.4|     9674| 378691.6|28-MAY-2018|         15|INE253B01015|     20|   2|    EQ|  9674|       6544| 67.65|\n",
      "|21STCENMGM|2018-05-31 00:00:00|    EQ| 38.0| 38.5|37.55| 38.5| 38.5|     38.3|     2666|100556.25|31-MAY-2018|         46|INE253B01015|     20|   2|    EQ|  2666|       2566| 96.25|\n",
      "|21STCENMGM|2018-06-01 00:00:00|    EQ| 38.5| 38.9|37.75|37.75|37.75|     38.5|     2000|  75964.6|01-JUN-2018|         48|INE253B01015|     20|   2|    EQ|  2000|       2000| 100.0|\n",
      "|21STCENMGM|2018-06-08 00:00:00|    EQ| 36.0| 36.0| 35.0| 36.0| 36.0|     35.3|      178|   6374.0|08-JUN-2018|          6|INE253B01015|     20|   2|    EQ|   178|        144|  80.9|\n",
      "|21STCENMGM|2018-06-20 00:00:00|    EQ| 37.5|37.75| 36.5|37.75|37.75|    37.15|      826| 30903.25|20-JUN-2018|          6|INE253B01015|     20|   2|    EQ|   826|        813| 98.43|\n",
      "|21STCENMGM|2018-06-27 00:00:00|    EQ| 37.0| 37.0| 37.0| 37.0| 37.0|     36.4|      762|  28194.0|27-JUN-2018|          8|INE253B01015|     20|   2|    EQ|   762|        762| 100.0|\n",
      "+----------+-------------------+------+-----+-----+-----+-----+-----+---------+---------+---------+-----------+-----------+------------+-------+----+------+------+-----------+------+\n",
      "only showing top 20 rows\n",
      "\n"
     ]
    }
   ],
   "source": [
    "# check repeated executions. after the first execution will see 0 shuffle\n",
    "cmdf_rep_cached.join(prvoldf_rep_cached, ['symbol', 'tsp']).show()"
   ]
  },
  {
   "cell_type": "code",
   "execution_count": 23,
   "metadata": {},
   "outputs": [],
   "source": [
    "# verify that is is on account of partitioning and caching and not just caching\n",
    "cmdf_cached = cmdf_parquet.select('*').cache()"
   ]
  },
  {
   "cell_type": "code",
   "execution_count": 24,
   "metadata": {},
   "outputs": [
    {
     "name": "stdout",
     "output_type": "stream",
     "text": [
      "Serialized 1x Replicated\n",
      "Disk Memory Deserialized 1x Replicated\n"
     ]
    }
   ],
   "source": [
    "print(cmdf_parquet.storageLevel)\n",
    "print(cmdf_cached.storageLevel)"
   ]
  },
  {
   "cell_type": "code",
   "execution_count": 25,
   "metadata": {},
   "outputs": [],
   "source": [
    "prvoldf_cached = prvoldf_parquet.select('*').cache()"
   ]
  },
  {
   "cell_type": "code",
   "execution_count": 26,
   "metadata": {},
   "outputs": [
    {
     "name": "stdout",
     "output_type": "stream",
     "text": [
      "Serialized 1x Replicated\n",
      "Disk Memory Deserialized 1x Replicated\n"
     ]
    }
   ],
   "source": [
    "print(prvoldf_parquet.storageLevel)\n",
    "print(prvoldf_cached.storageLevel)"
   ]
  },
  {
   "cell_type": "code",
   "execution_count": 29,
   "metadata": {},
   "outputs": [
    {
     "name": "stdout",
     "output_type": "stream",
     "text": [
      "+----------+-------------------+------+----+----+----+-----+----+---------+---------+------------+-----------+-----------+------------+-------+----+------+--------+-----------+------+\n",
      "|    SYMBOL|                tsp|SERIES|OPEN|HIGH| LOW|CLOSE|LAST|PREVCLOSE|TOTTRDQTY|   TOTTRDVAL|  TIMESTAMP|TOTALTRADES|        ISIN|rectype|srno|series|  traded|deliverable|delper|\n",
      "+----------+-------------------+------+----+----+----+-----+----+---------+---------+------------+-----------+-----------+------------+-------+----+------+--------+-----------+------+\n",
      "|21STCENMGM|2019-10-24 00:00:00|    EQ|12.9|12.9|12.9| 12.9|12.9|     12.9|      400|      5160.0|24-OCT-2019|          4|INE253B01015|     20|   2|    EQ|     400|        400| 100.0|\n",
      "|3IINFOTECH|2018-07-13 00:00:00|    EQ| 4.1| 4.3|3.65| 3.75| 3.7|     4.05| 15374953|6.03156685E7|13-JUL-2018|       8873|INE748C01020|     20|   3|    EQ|15374953|    7443771| 48.41|\n",
      "+----------+-------------------+------+----+----+----+-----+----+---------+---------+------------+-----------+-----------+------------+-------+----+------+--------+-----------+------+\n",
      "only showing top 2 rows\n",
      "\n"
     ]
    }
   ],
   "source": [
    "cmdf_cached.join(prvoldf_cached, ['symbol', 'tsp']).show(2)"
   ]
  },
  {
   "cell_type": "code",
   "execution_count": 30,
   "metadata": {},
   "outputs": [
    {
     "name": "stdout",
     "output_type": "stream",
     "text": [
      "== Physical Plan ==\n",
      "*(1) HashAggregate(keys=[symbol#0, tsp#13], functions=[sum(cast(tottrdqty#8 as bigint))])\n",
      "+- *(1) HashAggregate(keys=[symbol#0, tsp#13], functions=[partial_sum(cast(tottrdqty#8 as bigint))])\n",
      "   +- InMemoryTableScan [SYMBOL#0, TOTTRDQTY#8, tsp#13]\n",
      "         +- InMemoryRelation [SYMBOL#0, SERIES#1, OPEN#2, HIGH#3, LOW#4, CLOSE#5, LAST#6, PREVCLOSE#7, TOTTRDQTY#8, TOTTRDVAL#9, TIMESTAMP#10, TOTALTRADES#11, ISIN#12, tsp#13], StorageLevel(disk, memory, deserialized, 1 replicas)\n",
      "               +- Exchange hashpartitioning(symbol#0, tsp#13, 4), false, [id=#83]\n",
      "                  +- *(1) ColumnarToRow\n",
      "                     +- FileScan parquet [SYMBOL#0,SERIES#1,OPEN#2,HIGH#3,LOW#4,CLOSE#5,LAST#6,PREVCLOSE#7,TOTTRDQTY#8,TOTTRDVAL#9,TIMESTAMP#10,TOTALTRADES#11,ISIN#12,tsp#13] Batched: true, DataFilters: [], Format: Parquet, Location: InMemoryFileIndex[file:/D:/tmp/cmdf_parquet], PartitionFilters: [], PushedFilters: [], ReadSchema: struct<SYMBOL:string,SERIES:string,OPEN:double,HIGH:double,LOW:double,CLOSE:double,LAST:double,PR...\n",
      "\n",
      "\n"
     ]
    }
   ],
   "source": [
    "# grouping and aggregation operations also will benefit\n",
    "cmdf_rep_cached.groupBy('symbol', 'tsp').agg(sum('tottrdqty').alias('tottrdqty')).explain()"
   ]
  },
  {
   "cell_type": "code",
   "execution_count": 35,
   "metadata": {},
   "outputs": [
    {
     "data": {
      "text/plain": [
       "875309"
      ]
     },
     "execution_count": 35,
     "metadata": {},
     "output_type": "execute_result"
    }
   ],
   "source": [
    "# execute\n",
    "cmdf_rep_cached.groupBy('symbol', 'tsp').agg(sum('tottrdqty').alias('tottrdqty')).show(2)"
   ]
  },
  {
   "cell_type": "code",
   "execution_count": 37,
   "metadata": {},
   "outputs": [
    {
     "name": "stdout",
     "output_type": "stream",
     "text": [
      "+---------+-------------------+---------+\n",
      "|   symbol|                tsp|tottrdqty|\n",
      "+---------+-------------------+---------+\n",
      "|SOLARINDS|2019-03-15 00:00:00|     2748|\n",
      "|DIAMONDYD|2019-12-30 00:00:00|     2055|\n",
      "+---------+-------------------+---------+\n",
      "only showing top 2 rows\n",
      "\n"
     ]
    }
   ],
   "source": [
    "# check for unpartitioned, uncached table\n",
    "cmdf_parquet.groupBy('symbol', 'tsp').agg(sum('tottrdqty').alias('tottrdqty')).show(2)"
   ]
  },
  {
   "cell_type": "code",
   "execution_count": 62,
   "metadata": {},
   "outputs": [],
   "source": [
    "# save the cash market data table as a buckedted table\n",
    "cmdf_parquet.write.bucketBy(4,'symbol', 'tsp').sortBy('symbol', 'tsp').mode('overwrite').saveAsTable('cmdfbkt')"
   ]
  },
  {
   "cell_type": "code",
   "execution_count": 47,
   "metadata": {},
   "outputs": [
    {
     "name": "stdout",
     "output_type": "stream",
     "text": [
      "+--------+---------+-----------+\n",
      "|database|tableName|isTemporary|\n",
      "+--------+---------+-----------+\n",
      "| default|  cmdfbkt|      false|\n",
      "+--------+---------+-----------+\n",
      "\n"
     ]
    }
   ],
   "source": [
    "spark.sql('show tables').show()"
   ]
  },
  {
   "cell_type": "code",
   "execution_count": 63,
   "metadata": {},
   "outputs": [],
   "source": [
    "# read back the bucketed table\n",
    "cmdf_bkt = spark.read.table('cmdfbkt')"
   ]
  },
  {
   "cell_type": "code",
   "execution_count": 64,
   "metadata": {},
   "outputs": [
    {
     "name": "stdout",
     "output_type": "stream",
     "text": [
      "== Physical Plan ==\n",
      "*(1) HashAggregate(keys=[symbol#4229, tsp#4242], functions=[sum(cast(tottrdqty#4237 as bigint))])\n",
      "+- *(1) HashAggregate(keys=[symbol#4229, tsp#4242], functions=[partial_sum(cast(tottrdqty#4237 as bigint))])\n",
      "   +- *(1) ColumnarToRow\n",
      "      +- FileScan parquet default.cmdfbkt[SYMBOL#4229,TOTTRDQTY#4237,tsp#4242] Batched: true, DataFilters: [], Format: Parquet, Location: InMemoryFileIndex[file:/C:/Users/SAMAR/OneDrive/spark_python/ntbk/spark-warehouse/cmdfbkt], PartitionFilters: [], PushedFilters: [], ReadSchema: struct<SYMBOL:string,TOTTRDQTY:int,tsp:timestamp>, SelectedBucketsCount: 200 out of 200\n",
      "\n",
      "\n"
     ]
    }
   ],
   "source": [
    "# check grouping, aggregation plan\n",
    "# exchange hash partitioning is gone\n",
    "cmdf_bkt.groupBy('symbol', 'tsp').agg(sum('tottrdqty').alias('totqty')).explain()"
   ]
  },
  {
   "cell_type": "code",
   "execution_count": 115,
   "metadata": {},
   "outputs": [],
   "source": [
    "# create a small dataframe to check out broadcast hash join\n",
    "# average delivery percentage for stocks across the two years\n",
    "prvoldf_avg = prvoldf_parquet.filter(\"series='EQ'\").groupBy('symbol').agg(avg('delper').alias('delper'))"
   ]
  },
  {
   "cell_type": "raw",
   "metadata": {},
   "source": []
  },
  {
   "cell_type": "code",
   "execution_count": 117,
   "metadata": {},
   "outputs": [
    {
     "name": "stdout",
     "output_type": "stream",
     "text": [
      "+----------+-----------------+\n",
      "|    symbol|           delper|\n",
      "+----------+-----------------+\n",
      "|  GODREJCP| 56.7804674796748|\n",
      "|HITECHCORP|73.43516326530613|\n",
      "+----------+-----------------+\n",
      "only showing top 2 rows\n",
      "\n"
     ]
    }
   ],
   "source": [
    "# check the dataframe\n",
    "prvoldf_avg.show(2)"
   ]
  },
  {
   "cell_type": "code",
   "execution_count": 119,
   "metadata": {},
   "outputs": [
    {
     "name": "stdout",
     "output_type": "stream",
     "text": [
      "== Physical Plan ==\n",
      "*(3) Project [SYMBOL#5552, SERIES#5553, OPEN#5554, HIGH#5555, LOW#5556, CLOSE#5557, LAST#5558, PREVCLOSE#5559, TOTTRDQTY#5560, TOTTRDVAL#5561, TIMESTAMP#5562, TOTALTRADES#5563, ISIN#5564, tsp#5565, delper#6298]\n",
      "+- *(3) BroadcastHashJoin [SYMBOL#5552], [symbol#5694], Inner, BuildRight\n",
      "   :- *(3) Project [SYMBOL#5552, SERIES#5553, OPEN#5554, HIGH#5555, LOW#5556, CLOSE#5557, LAST#5558, PREVCLOSE#5559, TOTTRDQTY#5560, TOTTRDVAL#5561, TIMESTAMP#5562, TOTALTRADES#5563, ISIN#5564, tsp#5565]\n",
      "   :  +- *(3) Filter isnotnull(SYMBOL#5552)\n",
      "   :     +- *(3) ColumnarToRow\n",
      "   :        +- FileScan parquet [SYMBOL#5552,SERIES#5553,OPEN#5554,HIGH#5555,LOW#5556,CLOSE#5557,LAST#5558,PREVCLOSE#5559,TOTTRDQTY#5560,TOTTRDVAL#5561,TIMESTAMP#5562,TOTALTRADES#5563,ISIN#5564,tsp#5565] Batched: true, DataFilters: [isnotnull(SYMBOL#5552)], Format: Parquet, Location: InMemoryFileIndex[file:/D:/tmp/cmdf_parquet], PartitionFilters: [], PushedFilters: [IsNotNull(SYMBOL)], ReadSchema: struct<SYMBOL:string,SERIES:string,OPEN:double,HIGH:double,LOW:double,CLOSE:double,LAST:double,PR...\n",
      "   +- BroadcastExchange HashedRelationBroadcastMode(List(input[0, string, true])), [id=#2050]\n",
      "      +- *(2) HashAggregate(keys=[symbol#5694], functions=[avg(delper#5698)])\n",
      "         +- Exchange hashpartitioning(symbol#5694, 200), true, [id=#2046]\n",
      "            +- *(1) HashAggregate(keys=[symbol#5694], functions=[partial_avg(delper#5698)])\n",
      "               +- *(1) Project [symbol#5694, delper#5698]\n",
      "                  +- *(1) Filter ((isnotnull(series#5695) AND (series#5695 = EQ)) AND isnotnull(symbol#5694))\n",
      "                     +- *(1) ColumnarToRow\n",
      "                        +- FileScan parquet [symbol#5694,series#5695,delper#5698] Batched: true, DataFilters: [isnotnull(series#5695), (series#5695 = EQ), isnotnull(symbol#5694)], Format: Parquet, Location: InMemoryFileIndex[file:/D:/tmp/prvol_df_parquet], PartitionFilters: [], PushedFilters: [IsNotNull(series), EqualTo(series,EQ), IsNotNull(symbol)], ReadSchema: struct<symbol:string,series:string,delper:double>\n",
      "\n",
      "\n"
     ]
    }
   ],
   "source": [
    "# join cash market dataframe with average del percent dataframe and check the query plan\n",
    "cmdf_parquet.join(prvoldf_avg, 'symbol').explain()"
   ]
  },
  {
   "cell_type": "code",
   "execution_count": 120,
   "metadata": {},
   "outputs": [
    {
     "name": "stdout",
     "output_type": "stream",
     "text": [
      "+----------+------+-------+-------+-------+--------+-------+---------+---------+---------------+-----------+-----------+------------+-------------------+------------------+\n",
      "|    SYMBOL|SERIES|   OPEN|   HIGH|    LOW|   CLOSE|   LAST|PREVCLOSE|TOTTRDQTY|      TOTTRDVAL|  TIMESTAMP|TOTALTRADES|        ISIN|                tsp|            delper|\n",
      "+----------+------+-------+-------+-------+--------+-------+---------+---------+---------------+-----------+-----------+------------+-------------------+------------------+\n",
      "| 20MICRONS|    EQ|   34.0|  34.55|   32.5|   32.95|   32.7|    34.15|    20773|       694054.3|21-AUG-2019|        269|INE144J01027|2019-08-21 00:00:00|           64.5408|\n",
      "|3IINFOTECH|    EQ|   1.95|    2.0|    1.9|    1.95|   1.95|      1.9|   680794|     1312807.65|21-AUG-2019|        422|INE748C01020|2019-08-21 00:00:00|52.961686991869925|\n",
      "|   3MINDIA|    EQ|20848.0|20848.0|20300.0|20315.85|20300.0|  20614.4|      732|   1.49590743E7|21-AUG-2019|        340|INE470A01017|2019-08-21 00:00:00|   66.840733197556|\n",
      "|    3PLAND|    EQ|   5.65|   5.65|   5.55|    5.55|   5.55|      6.1|     1500|         8360.0|21-AUG-2019|          3|INE105C01023|2019-08-21 00:00:00| 85.14257028112449|\n",
      "|    5PAISA|    EQ| 137.05|  139.3|  131.0|   133.8|  131.0|   137.35|     5641|      762445.15|21-AUG-2019|        241|INE618L01018|2019-08-21 00:00:00| 64.27341463414635|\n",
      "|   63MOONS|    EQ|  92.35|  100.0|  91.25|    97.6|   99.0|    91.45|   216219|  2.054406035E7|21-AUG-2019|       2474|INE111B01023|2019-08-21 00:00:00| 38.19582484725051|\n",
      "|   8KMILES|    EQ|  54.25|  56.35|  54.15|   54.25|   54.5|    56.95|    87835|     4788497.45|21-AUG-2019|       1052|INE650K01021|2019-08-21 00:00:00| 47.93621483375959|\n",
      "|  A2ZINFRA|    EQ|   9.95|   9.95|   9.75|    9.75|    9.8|     9.95|   127994|     1252483.65|21-AUG-2019|        192|INE619I01012|2019-08-21 00:00:00|62.334543524416134|\n",
      "|AARTIDRUGS|    EQ|  456.1|  462.4|  451.2|   460.4|  460.0|   456.95|    28574|  1.309214405E7|21-AUG-2019|        284|INE767A01016|2019-08-21 00:00:00| 62.21305498981672|\n",
      "|  AARTIIND|    EQ| 1540.0| 1540.0| 1470.0| 1474.95| 1471.0|   1528.0|    77077| 1.1620888855E8|21-AUG-2019|       7781|INE769A01020|2019-08-21 00:00:00|63.703941908713695|\n",
      "| AARVEEDEN|    EQ|  13.75|   14.3|  12.95|    14.0|   13.9|     13.7|     4414|        60889.6|21-AUG-2019|        118|INE273D01019|2019-08-21 00:00:00|  70.5986965376782|\n",
      "|     AAVAS|    EQ| 1492.0| 1504.0| 1450.0| 1458.55| 1452.1|   1503.0|    10019|   1.47953743E7|21-AUG-2019|       1542|INE216P01012|2019-08-21 00:00:00|62.086622516556304|\n",
      "|      ABAN|    EQ|   25.6|  25.75|   24.4|    24.7|  24.65|     25.6|    63498|      1586143.3|21-AUG-2019|        601|INE421A01028|2019-08-21 00:00:00|30.595973333333333|\n",
      "|       ABB|    EQ|1364.95| 1373.0| 1352.0| 1359.35| 1355.1|  1364.95|    42699|    5.8124778E7|21-AUG-2019|       2210|INE117A01022|2019-08-21 00:00:00|  50.4599793814433|\n",
      "|ABBOTINDIA|    EQ| 8956.6| 9114.0| 8900.1|  9001.1| 8952.4|  8986.05|    51632| 4.6599999685E8|21-AUG-2019|       2864|INE358A01014|2019-08-21 00:00:00| 66.05468431771894|\n",
      "| ABCAPITAL|    EQ|  88.75|   93.5|  88.25|    90.0|   90.0|     89.5|  1700457| 1.5472742395E8|21-AUG-2019|      15476|INE674K01013|2019-08-21 00:00:00| 53.80273469387756|\n",
      "|     ABFRL|    EQ|  188.1|  192.0| 187.85|  191.05|  190.2|    188.6|   589258| 1.1216141325E8|21-AUG-2019|      11755|INE647O01011|2019-08-21 00:00:00| 57.95975560081466|\n",
      "|ABSLNN50ET|    EQ| 258.92| 258.92| 254.41|  254.41| 254.41|   257.37|        5|        1284.35|21-AUG-2019|          4|INF209KB1B87|2019-08-21 00:00:00| 84.20659898477157|\n",
      "|       ACC|    EQ|1545.75| 1546.9| 1480.5| 1485.65| 1483.0|  1540.85|   946810|1.42913950565E9|21-AUG-2019|      32347|INE012A01025|2019-08-21 00:00:00|  30.1614837398374|\n",
      "|   ACCELYA|    EQ| 741.15|  750.0|  731.2|  735.85|  732.0|    740.0|     5371|      3968909.0|21-AUG-2019|        443|INE793A01012|2019-08-21 00:00:00|  73.4731364562118|\n",
      "+----------+------+-------+-------+-------+--------+-------+---------+---------+---------------+-----------+-----------+------------+-------------------+------------------+\n",
      "only showing top 20 rows\n",
      "\n"
     ]
    }
   ],
   "source": [
    "# execute and verify in the ui - no shuffle, straight broadcast\n",
    "cmdf_parquet.join(prvoldf_avg, 'symbol').show()"
   ]
  }
 ],
 "metadata": {
  "kernelspec": {
   "display_name": "Python 3",
   "language": "python",
   "name": "python3"
  },
  "language_info": {
   "codemirror_mode": {
    "name": "ipython",
    "version": 3
   },
   "file_extension": ".py",
   "mimetype": "text/x-python",
   "name": "python",
   "nbconvert_exporter": "python",
   "pygments_lexer": "ipython3",
   "version": "3.8.5"
  }
 },
 "nbformat": 4,
 "nbformat_minor": 2
}
