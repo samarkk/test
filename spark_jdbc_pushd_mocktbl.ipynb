{
 "cells": [
  {
   "cell_type": "code",
   "execution_count": 4,
   "metadata": {},
   "outputs": [],
   "source": [
    "import os\n",
    "import sys\n",
    "os.environ['SPARK_HOME']='/home/samar/spark'\n",
    "os.environ['PYLIB']=os.environ['SPARK_HOME']+'/python/lib'\n",
    "sys.path.insert(0,os.environ['PYLIB']+'/py4j-0.10.9-src.zip')\n",
    "sys.path.insert(1,os.environ['PYLIB']+'/pyspark.zip')"
   ]
  },
  {
   "cell_type": "code",
   "execution_count": 1,
   "metadata": {},
   "outputs": [],
   "source": [
    "from pyspark.sql import SparkSession\n",
    "import pandas as pd\n",
    "import numpy as np"
   ]
  },
  {
   "cell_type": "code",
   "execution_count": 2,
   "metadata": {},
   "outputs": [],
   "source": [
    "spark = SparkSession.builder.appName('SparkJDBC') \\\n",
    ".config('spark.warehouse.dir','/user/hive/warehouse') \\\n",
    ".config('spark.driver.extraClassPath', \n",
    "        '/usr/share/java/mysql-connector-java.jar') \\\n",
    ".config('spark.executor.extraClassPath', \n",
    "        '/usr/share/java/mysql-connector-java.jar') \\\n",
    ".enableHiveSupport().getOrCreate()"
   ]
  },
  {
   "cell_type": "code",
   "execution_count": 3,
   "metadata": {},
   "outputs": [
    {
     "data": {
      "text/plain": [
       "'3.0.1'"
      ]
     },
     "execution_count": 3,
     "metadata": {},
     "output_type": "execute_result"
    }
   ],
   "source": [
    "# Having set the driver and driver options we should have spark representing spark session \n",
    "# available straight away\n",
    "spark.version"
   ]
  },
  {
   "cell_type": "code",
   "execution_count": 4,
   "metadata": {},
   "outputs": [],
   "source": [
    "sc = spark.sparkContext"
   ]
  },
  {
   "cell_type": "code",
   "execution_count": 14,
   "metadata": {},
   "outputs": [
    {
     "name": "stdout",
     "output_type": "stream",
     "text": [
      "+---+---------+----------+--------------------+----------+---------------+\n",
      "| id|    fname|     lname|               email|    gender|         ipaddr|\n",
      "+---+---------+----------+--------------------+----------+---------------+\n",
      "|  1|  Adelina|   Nordass|  anordass0@cnbc.com|  Bigender|  240.102.55.70|\n",
      "|  2|    Lisha|     oldey|     loldey1@ovh.net|Non-binary|  89.176.188.43|\n",
      "|  3|  Geordie|    Sheere|    gsheere2@ask.com|Genderquee|224.104.196.249|\n",
      "|  4|  Giacobo| Gostridge|   ggostridge3@de.vu|Genderflui| 107.166.210.39|\n",
      "|  5| Nannette|  Shawyers|  nshawyers4@msn.com|      Male| 171.151.79.205|\n",
      "|  6|    Colan|   Sharman|csharman5@purevol...|Genderflui|   182.59.94.45|\n",
      "|  7|  Bellina|   Slatter|  bslatter6@admin.ch|  Bigender|  42.116.182.12|\n",
      "|  8| Catarina|  Greening|cgreening7@odnokl...|Genderflui|  30.85.129.238|\n",
      "|  9|Morganica|    Crowne|     mcrowne8@ca.gov|    Female|113.125.199.117|\n",
      "| 10|    Ruddy|   Borland|rborland9@howstuf...|Non-binary|  10.32.109.107|\n",
      "| 11|    Wiley|  Blaylock| wblaylocka@sohu.com|    Female|  127.107.56.54|\n",
      "| 12| L;urette|Rosenkranc|lrosenkrancb@netw...|      Male|  210.212.50.19|\n",
      "| 13|     Izak|Hackworthy|ihackworthyc@stor...|Genderquee| 18.240.245.239|\n",
      "| 14|      Des|  Prandini|dprandinid@typepa...|Genderquee|  95.22.157.244|\n",
      "| 15|   Nikola|    Treeby|    ntreebye@ihg.com|Genderflui|  154.149.60.69|\n",
      "| 16|  Gregory|    Rebert|  grebertf@cam.ac.uk|   Agender|   77.41.90.191|\n",
      "| 17|     Ravi|   Mc Harg|   rmchargg@wisc.edu|  Bigender|   239.38.73.82|\n",
      "| 18|   Miller|  Shadrach| mshadrachh@admin.ch|Genderquee|  90.131.244.21|\n",
      "| 19|     Angy|  McJerrow|amcjerrowi@blinkl...|    Female|  226.64.21.176|\n",
      "| 20|     Ryon|   Erswell|  rerswellj@cnet.com|Genderflui|  66.199.252.90|\n",
      "+---+---------+----------+--------------------+----------+---------------+\n",
      "only showing top 20 rows\n",
      "\n"
     ]
    }
   ],
   "source": [
    "prop = {'user': 'root', 'password': 'puneetRai10198)', 'driver': 'com.mysql.jdbc.Driver'}\n",
    "url = 'jdbc:mysql://localhost:3306/testdb'\n",
    "mockdf = spark.read.format('jdbc').option('url', url).option('dbtable', 'mocktbl') \\\n",
    ".option('user', 'root').option('password', 'puneetRai10198)') \\\n",
    ".option('driver', 'com.mysql.jdbc.Driver').load()\n",
    "mockdf.show()"
   ]
  },
  {
   "cell_type": "code",
   "execution_count": 15,
   "metadata": {},
   "outputs": [
    {
     "name": "stdout",
     "output_type": "stream",
     "text": [
      "root\n",
      " |-- id: integer (nullable = true)\n",
      " |-- fname: string (nullable = true)\n",
      " |-- lname: string (nullable = true)\n",
      " |-- email: string (nullable = true)\n",
      " |-- gender: string (nullable = true)\n",
      " |-- ipaddr: string (nullable = true)\n",
      "\n"
     ]
    }
   ],
   "source": [
    "mockdf.printSchema()"
   ]
  },
  {
   "cell_type": "code",
   "execution_count": 16,
   "metadata": {},
   "outputs": [
    {
     "data": {
      "text/plain": [
       "1"
      ]
     },
     "execution_count": 16,
     "metadata": {},
     "output_type": "execute_result"
    }
   ],
   "source": [
    "mockdf.rdd.getNumPartitions()"
   ]
  },
  {
   "cell_type": "code",
   "execution_count": 17,
   "metadata": {},
   "outputs": [
    {
     "name": "stdout",
     "output_type": "stream",
     "text": [
      "+----------+-----+\n",
      "|     lname|count|\n",
      "+----------+-----+\n",
      "|  Ganiford|    1|\n",
      "|   Beecker|    1|\n",
      "|   Naisbet|    1|\n",
      "| Kempshall|    1|\n",
      "|  Hanscome|    1|\n",
      "|   McMakin|    1|\n",
      "|     Guyon|    1|\n",
      "|     Mairs|    1|\n",
      "|    Laight|    1|\n",
      "|Plumbridge|    1|\n",
      "|Pitcaithly|    1|\n",
      "|      Chad|    1|\n",
      "|    Tester|    1|\n",
      "|     Sager|    1|\n",
      "|   Bunston|    1|\n",
      "|    Canero|    1|\n",
      "|     Lghan|    1|\n",
      "|    Denial|    1|\n",
      "|Martinetto|    1|\n",
      "|     Riche|    1|\n",
      "+----------+-----+\n",
      "only showing top 20 rows\n",
      "\n"
     ]
    }
   ],
   "source": [
    "mockdf.groupBy('lname').count().show()"
   ]
  },
  {
   "cell_type": "code",
   "execution_count": 18,
   "metadata": {},
   "outputs": [
    {
     "name": "stdout",
     "output_type": "stream",
     "text": [
      "+---+---------+----------+--------------------+----------+---------------+\n",
      "| id|    fname|     lname|               email|    gender|         ipaddr|\n",
      "+---+---------+----------+--------------------+----------+---------------+\n",
      "|  1|  Adelina|   Nordass|  anordass0@cnbc.com|  Bigender|  240.102.55.70|\n",
      "|  2|    Lisha|     oldey|     loldey1@ovh.net|Non-binary|  89.176.188.43|\n",
      "|  3|  Geordie|    Sheere|    gsheere2@ask.com|Genderquee|224.104.196.249|\n",
      "|  4|  Giacobo| Gostridge|   ggostridge3@de.vu|Genderflui| 107.166.210.39|\n",
      "|  5| Nannette|  Shawyers|  nshawyers4@msn.com|      Male| 171.151.79.205|\n",
      "|  6|    Colan|   Sharman|csharman5@purevol...|Genderflui|   182.59.94.45|\n",
      "|  7|  Bellina|   Slatter|  bslatter6@admin.ch|  Bigender|  42.116.182.12|\n",
      "|  8| Catarina|  Greening|cgreening7@odnokl...|Genderflui|  30.85.129.238|\n",
      "|  9|Morganica|    Crowne|     mcrowne8@ca.gov|    Female|113.125.199.117|\n",
      "| 10|    Ruddy|   Borland|rborland9@howstuf...|Non-binary|  10.32.109.107|\n",
      "| 11|    Wiley|  Blaylock| wblaylocka@sohu.com|    Female|  127.107.56.54|\n",
      "| 12| L;urette|Rosenkranc|lrosenkrancb@netw...|      Male|  210.212.50.19|\n",
      "| 13|     Izak|Hackworthy|ihackworthyc@stor...|Genderquee| 18.240.245.239|\n",
      "| 14|      Des|  Prandini|dprandinid@typepa...|Genderquee|  95.22.157.244|\n",
      "| 15|   Nikola|    Treeby|    ntreebye@ihg.com|Genderflui|  154.149.60.69|\n",
      "| 16|  Gregory|    Rebert|  grebertf@cam.ac.uk|   Agender|   77.41.90.191|\n",
      "| 17|     Ravi|   Mc Harg|   rmchargg@wisc.edu|  Bigender|   239.38.73.82|\n",
      "| 18|   Miller|  Shadrach| mshadrachh@admin.ch|Genderquee|  90.131.244.21|\n",
      "| 19|     Angy|  McJerrow|amcjerrowi@blinkl...|    Female|  226.64.21.176|\n",
      "| 20|     Ryon|   Erswell|  rerswellj@cnet.com|Genderflui|  66.199.252.90|\n",
      "+---+---------+----------+--------------------+----------+---------------+\n",
      "only showing top 20 rows\n",
      "\n"
     ]
    }
   ],
   "source": [
    "mockdf_part = spark.read.format('jdbc').option('url', url).option('dbtable', 'mocktbl') \\\n",
    ".option('user', 'root').option('password', 'puneetRai10198)') \\\n",
    ".option('driver', 'com.mysql.jdbc.Driver') \\\n",
    ".option('partitionColumn', 'id').option('lowerBound', 0).option('upperBound', 1000) \\\n",
    ".option('numPartitions', 4).load()\n",
    "mockdf_part.show()"
   ]
  },
  {
   "cell_type": "code",
   "execution_count": 19,
   "metadata": {},
   "outputs": [
    {
     "data": {
      "text/plain": [
       "4"
      ]
     },
     "execution_count": 19,
     "metadata": {},
     "output_type": "execute_result"
    }
   ],
   "source": [
    "mockdf_part.rdd.getNumPartitions()"
   ]
  },
  {
   "cell_type": "code",
   "execution_count": 20,
   "metadata": {},
   "outputs": [
    {
     "name": "stdout",
     "output_type": "stream",
     "text": [
      "+--------+----------+\n",
      "|   fname|     lname|\n",
      "+--------+----------+\n",
      "|   Ruddy|   Borland|\n",
      "|   Wiley|  Blaylock|\n",
      "|L;urette|Rosenkranc|\n",
      "|    Izak|Hackworthy|\n",
      "|     Des|  Prandini|\n",
      "|  Nikola|    Treeby|\n",
      "| Gregory|    Rebert|\n",
      "|    Ravi|   Mc Harg|\n",
      "|  Miller|  Shadrach|\n",
      "|    Angy|  McJerrow|\n",
      "|    Ryon|   Erswell|\n",
      "+--------+----------+\n",
      "\n"
     ]
    }
   ],
   "source": [
    "filter_query = \"(select fname, lname from mocktbl where id between 10 and 20) fq\"\n",
    "push_down_df = spark.read.jdbc(url=url, table=filter_query, properties=prop)\n",
    "push_down_df.show()"
   ]
  },
  {
   "cell_type": "code",
   "execution_count": 21,
   "metadata": {},
   "outputs": [
    {
     "name": "stdout",
     "output_type": "stream",
     "text": [
      "== Physical Plan ==\n",
      "*(1) Scan JDBCRelation((select fname, lname from mocktbl where id between 10 and 20) fq) [numPartitions=1] [fname#190,lname#191] PushedFilters: [], ReadSchema: struct<fname:string,lname:string>\n",
      "\n",
      "\n"
     ]
    }
   ],
   "source": [
    "push_down_df.explain()"
   ]
  },
  {
   "cell_type": "code",
   "execution_count": 22,
   "metadata": {},
   "outputs": [],
   "source": [
    "df_pushdown = spark.read.jdbc(table=\"mocktbl\", url=url, properties=prop).where('id between 10 and 20')"
   ]
  },
  {
   "cell_type": "code",
   "execution_count": 23,
   "metadata": {},
   "outputs": [
    {
     "name": "stdout",
     "output_type": "stream",
     "text": [
      "== Physical Plan ==\n",
      "*(1) Scan JDBCRelation(mocktbl) [numPartitions=1] [id#203,fname#204,lname#205,email#206,gender#207,ipaddr#208] PushedFilters: [*IsNotNull(id), *GreaterThanOrEqual(id,10), *LessThanOrEqual(id,20)], ReadSchema: struct<id:int,fname:string,lname:string,email:string,gender:string,ipaddr:string>\n",
      "\n",
      "\n"
     ]
    }
   ],
   "source": [
    "df_pushdown.explain()"
   ]
  },
  {
   "cell_type": "code",
   "execution_count": 24,
   "metadata": {},
   "outputs": [
    {
     "name": "stdout",
     "output_type": "stream",
     "text": [
      "+---+--------+----------+--------------------+----------+--------------+\n",
      "| id|   fname|     lname|               email|    gender|        ipaddr|\n",
      "+---+--------+----------+--------------------+----------+--------------+\n",
      "| 10|   Ruddy|   Borland|rborland9@howstuf...|Non-binary| 10.32.109.107|\n",
      "| 11|   Wiley|  Blaylock| wblaylocka@sohu.com|    Female| 127.107.56.54|\n",
      "| 12|L;urette|Rosenkranc|lrosenkrancb@netw...|      Male| 210.212.50.19|\n",
      "| 13|    Izak|Hackworthy|ihackworthyc@stor...|Genderquee|18.240.245.239|\n",
      "| 14|     Des|  Prandini|dprandinid@typepa...|Genderquee| 95.22.157.244|\n",
      "| 15|  Nikola|    Treeby|    ntreebye@ihg.com|Genderflui| 154.149.60.69|\n",
      "| 16| Gregory|    Rebert|  grebertf@cam.ac.uk|   Agender|  77.41.90.191|\n",
      "| 17|    Ravi|   Mc Harg|   rmchargg@wisc.edu|  Bigender|  239.38.73.82|\n",
      "| 18|  Miller|  Shadrach| mshadrachh@admin.ch|Genderquee| 90.131.244.21|\n",
      "| 19|    Angy|  McJerrow|amcjerrowi@blinkl...|    Female| 226.64.21.176|\n",
      "| 20|    Ryon|   Erswell|  rerswellj@cnet.com|Genderflui| 66.199.252.90|\n",
      "+---+--------+----------+--------------------+----------+--------------+\n",
      "\n"
     ]
    }
   ],
   "source": [
    "df_pushdown.show()"
   ]
  },
  {
   "cell_type": "code",
   "execution_count": 25,
   "metadata": {},
   "outputs": [],
   "source": [
    "mockdf.write.jdbc(url=url, mode='append', table='mocktblcp', properties=prop)"
   ]
  },
  {
   "cell_type": "code",
   "execution_count": 26,
   "metadata": {},
   "outputs": [
    {
     "data": {
      "text/plain": [
       "1000"
      ]
     },
     "execution_count": 26,
     "metadata": {},
     "output_type": "execute_result"
    }
   ],
   "source": [
    "spark.read.format('jdbc').option('url', url).option('dbtable', 'mocktblcp') \\\n",
    ".option('user', 'root').option('password', 'puneetRai10198)') \\\n",
    ".option('driver', 'com.mysql.jdbc.Driver').load().count()"
   ]
  }
 ],
 "metadata": {
  "kernelspec": {
   "display_name": "Python 3",
   "language": "python",
   "name": "python3"
  },
  "language_info": {
   "codemirror_mode": {
    "name": "ipython",
    "version": 3
   },
   "file_extension": ".py",
   "mimetype": "text/x-python",
   "name": "python",
   "nbconvert_exporter": "python",
   "pygments_lexer": "ipython3",
   "version": "3.8.3"
  }
 },
 "nbformat": 4,
 "nbformat_minor": 2
}
